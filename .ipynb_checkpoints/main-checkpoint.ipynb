{
 "cells": [
  {
   "cell_type": "markdown",
   "id": "d1d3c7b6",
   "metadata": {},
   "source": [
    "# Plastic Map"
   ]
  },
  {
   "cell_type": "markdown",
   "id": "e2148581",
   "metadata": {},
   "source": [
    "## Imports"
   ]
  },
  {
   "cell_type": "code",
   "execution_count": 20,
   "id": "7112ae37",
   "metadata": {},
   "outputs": [],
   "source": [
    "from modules import dart_files, rsdata_charts, rsdata_classification"
   ]
  },
  {
   "cell_type": "markdown",
   "id": "3448c6ec",
   "metadata": {},
   "source": [
    "## Loading data"
   ]
  },
  {
   "cell_type": "code",
   "execution_count": 21,
   "id": "cf965bc9",
   "metadata": {},
   "outputs": [],
   "source": [
    "feature_names = ['Blue', 'Green', 'Red', 'RedEdge1', 'RedEdge2', 'RedEdge3', 'NIR1', 'NIR2', 'SWIR1', 'SWIR2']\n",
    "radiometric_indexes = ['NDWI', 'WRI', 'NDVI', 'AWEI', 'MNDWI', 'SR', 'PI', 'RNDVI', 'FDI'] #'NDMI' excluído porque é identico ao NDWI "
   ]
  },
  {
   "cell_type": "code",
   "execution_count": null,
   "id": "a31b1cba",
   "metadata": {},
   "outputs": [],
   "source": [
    "path, polymers, cover_percent = dart_files.open_folders(str(input(\"Dart files path: \")))\n",
    "#Folders need to be structured like path/polymers/coverage percent/files.asc \n",
    "#Here, path is files/dart_files/1200x1200"
   ]
  },
  {
   "cell_type": "markdown",
   "id": "b1e8de79",
   "metadata": {},
   "source": [
    "#### Resampling 20 meter bands by nearest neighbor"
   ]
  },
  {
   "cell_type": "code",
   "execution_count": null,
   "id": "ca05224f",
   "metadata": {},
   "outputs": [],
   "source": [
    "nn_data = dart_files.get_images(path, polymers, cover_percent, \"nearest\") #resample_method refere-se às opções"
   ]
  },
  {
   "cell_type": "code",
   "execution_count": null,
   "id": "731ba6e5",
   "metadata": {},
   "outputs": [],
   "source": [
    "for image in nn_data:\n",
    "    image.setAreaLabel(0, (int(image.getXSize() / 2) - 1), 0, (image.getYSize() - 1), \"Water\") #-1 é porque indice (numero das linhas e colunas) comeca em zero, enquanto len (que informa o tamanho) comeca em 1\n",
    "    image.setAreaLabel(int(image.getXSize() / 2), (image.getXSize() - 1), 0, (image.getYSize() - 1), \"Sand\") #-1 é porque indice (numero das linhas e colunas) comeca em zero, enquanto len (que informa o tamanho) comeca em 1\n",
    "    image.setGridLabel(29, 89, 4, 27, 87, 4, \"Plastic\")\n",
    "    for pixel in image.getPixels():\n",
    "        pixel.setLabel(image.getLabelsMap())\n",
    "        pixel.setCoverPercent(\"Plastic\", image.getPlasticCoverPercent())"
   ]
  },
  {
   "cell_type": "code",
   "execution_count": null,
   "id": "f0d70404",
   "metadata": {},
   "outputs": [],
   "source": [
    "dart_nn = dart_files.build_dataset(nn_data)"
   ]
  },
  {
   "cell_type": "code",
   "execution_count": null,
   "id": "68574358",
   "metadata": {},
   "outputs": [],
   "source": [
    "os.chdir('../')\n",
    "os.chdir('../')\n",
    "os.chdir('../')"
   ]
  },
  {
   "cell_type": "code",
   "execution_count": null,
   "id": "762b7aa2",
   "metadata": {},
   "outputs": [],
   "source": [
    "dart_nn['Polymer'] = [x.split('/')[0] for x in dart_nn['Path']]\n",
    "dart_nn"
   ]
  },
  {
   "cell_type": "code",
   "execution_count": null,
   "id": "0f74e9f5",
   "metadata": {},
   "outputs": [],
   "source": [
    "dart_nn.to_csv(str(input(\"Path/filename: \")))\n",
    "#Here is 'files/csv_files/dataset_dart_nn.csv'"
   ]
  },
  {
   "cell_type": "markdown",
   "id": "53fb560e",
   "metadata": {},
   "source": [
    "#### Resampling 20 meter bands by bilinear interpolation"
   ]
  },
  {
   "cell_type": "code",
   "execution_count": null,
   "id": "ba817d2d",
   "metadata": {},
   "outputs": [],
   "source": []
  }
 ],
 "metadata": {
  "kernelspec": {
   "display_name": "Python 3 (ipykernel)",
   "language": "python",
   "name": "python3"
  },
  "language_info": {
   "codemirror_mode": {
    "name": "ipython",
    "version": 3
   },
   "file_extension": ".py",
   "mimetype": "text/x-python",
   "name": "python",
   "nbconvert_exporter": "python",
   "pygments_lexer": "ipython3",
   "version": "3.9.12"
  }
 },
 "nbformat": 4,
 "nbformat_minor": 5
}
